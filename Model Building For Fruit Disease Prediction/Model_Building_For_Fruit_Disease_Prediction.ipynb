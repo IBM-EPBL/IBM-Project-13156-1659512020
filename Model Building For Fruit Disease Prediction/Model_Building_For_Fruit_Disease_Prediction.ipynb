{
  "nbformat": 4,
  "nbformat_minor": 0,
  "metadata": {
    "colab": {
      "provenance": []
    },
    "kernelspec": {
      "name": "python3",
      "display_name": "Python 3"
    },
    "language_info": {
      "name": "python"
    }
  },
  "cells": [
    {
      "cell_type": "markdown",
      "source": [
        "# **Model Building For Fruit Disease Prediction**\n"
      ],
      "metadata": {
        "id": "YUrAsi443lsN"
      }
    },
    {
      "cell_type": "markdown",
      "source": [
        "# **Import The Libraries** "
      ],
      "metadata": {
        "id": "SmA8Sau80vGv"
      }
    },
    {
      "cell_type": "code",
      "source": [
        "from keras.models import Sequential\n",
        "from keras.layers import Dense\n",
        "from keras.layers import Convolution2D\n",
        "from keras.layers import MaxPooling2D\n",
        "from keras.layers import Flatten"
      ],
      "metadata": {
        "id": "QZWNDvWH0xvO"
      },
      "execution_count": 1,
      "outputs": []
    },
    {
      "cell_type": "markdown",
      "source": [
        "# **IMAGE PREPROCESSING**"
      ],
      "metadata": {
        "id": "dhbg-YG907bm"
      }
    },
    {
      "cell_type": "code",
      "source": [
        "from keras.preprocessing.image import ImageDataGenerator"
      ],
      "metadata": {
        "id": "h_QP6bWs1AtC"
      },
      "execution_count": 5,
      "outputs": []
    },
    {
      "cell_type": "code",
      "source": [
        "train_datagen = ImageDataGenerator(rescale = 1./255, shear_range = 0.2,zoom_range = 0.2,horizontal_flip = True)"
      ],
      "metadata": {
        "id": "4tVAjx5h13Ro"
      },
      "execution_count": 6,
      "outputs": []
    },
    {
      "cell_type": "code",
      "source": [
        "test_datagen = ImageDataGenerator(rescale = 1)"
      ],
      "metadata": {
        "id": "FPna67Me16Qc"
      },
      "execution_count": 7,
      "outputs": []
    },
    {
      "cell_type": "code",
      "source": [
        "x_train= train_datagen.flow_from_directory('/content/drive/MyDrive/fruit-dataset/fruit-dataset/train',batch_size=32,target_size=(128,128),\n",
        "                                         color_mode='rgb',class_mode='categorical')\n",
        "x_test = test_datagen.flow_from_directory('/content/drive/MyDrive/fruit-dataset/fruit-dataset/test',batch_size=32,target_size=(128,128),\n",
        "                                         color_mode='rgb',class_mode='categorical')"
      ],
      "metadata": {
        "colab": {
          "base_uri": "https://localhost:8080/"
        },
        "id": "LyqUQy2V19BU",
        "outputId": "64f91aa7-3e5e-47a3-c773-f2aae1fd3e62"
      },
      "execution_count": 8,
      "outputs": [
        {
          "output_type": "stream",
          "name": "stdout",
          "text": [
            "Found 5384 images belonging to 6 classes.\n",
            "Found 1686 images belonging to 6 classes.\n"
          ]
        }
      ]
    },
    {
      "cell_type": "code",
      "source": [
        "from tensorflow.keras.utils import Sequence"
      ],
      "metadata": {
        "id": "VDxqoNbz2B8b"
      },
      "execution_count": 9,
      "outputs": []
    },
    {
      "cell_type": "markdown",
      "source": [
        "# **Initializing The Model**"
      ],
      "metadata": {
        "id": "OAQoS3z22IuC"
      }
    },
    {
      "cell_type": "code",
      "source": [
        "model=Sequential()"
      ],
      "metadata": {
        "id": "aC_Ot3HV2NeJ"
      },
      "execution_count": 10,
      "outputs": []
    },
    {
      "cell_type": "markdown",
      "source": [
        "# **ADD CNNLayers**"
      ],
      "metadata": {
        "id": "UUPi7oDS2SFL"
      }
    },
    {
      "cell_type": "code",
      "source": [
        "model.add(Convolution2D(32,(3,3),input_shape = (128,128,3),activation = 'relu'))\n",
        "model.add(MaxPooling2D(pool_size = (2,2)))\n",
        "model.add(Flatten())"
      ],
      "metadata": {
        "id": "SndE4ezQ2WHJ"
      },
      "execution_count": 11,
      "outputs": []
    },
    {
      "cell_type": "markdown",
      "source": [
        "# **Add Dense Layers**"
      ],
      "metadata": {
        "id": "4dmrH2rL2bxy"
      }
    },
    {
      "cell_type": "code",
      "source": [
        "model.add(Dense(40,  'relu'))\n",
        "model.add(Dense(20, 'relu'))\n",
        "model.add(Dense(6,  'softmax', ))"
      ],
      "metadata": {
        "id": "SyBRiUPW2fgW"
      },
      "execution_count": 12,
      "outputs": []
    },
    {
      "cell_type": "markdown",
      "source": [
        "# **Train And Save The Model**"
      ],
      "metadata": {
        "id": "IbnoF1kN2mdi"
      }
    },
    {
      "cell_type": "code",
      "source": [
        "model.compile(optimizer='adam', loss = \"categorical_crossentropy\" , metrics =['accuracy'])"
      ],
      "metadata": {
        "id": "5qxDYHFF2qDs"
      },
      "execution_count": 13,
      "outputs": []
    },
    {
      "cell_type": "code",
      "source": [
        "model.summary()"
      ],
      "metadata": {
        "colab": {
          "base_uri": "https://localhost:8080/"
        },
        "id": "dZqUfMji26YL",
        "outputId": "35eed0a6-f4b1-4634-ab84-925cae4338ba"
      },
      "execution_count": 15,
      "outputs": [
        {
          "output_type": "stream",
          "name": "stdout",
          "text": [
            "Model: \"sequential\"\n",
            "_________________________________________________________________\n",
            " Layer (type)                Output Shape              Param #   \n",
            "=================================================================\n",
            " conv2d (Conv2D)             (None, 126, 126, 32)      896       \n",
            "                                                                 \n",
            " max_pooling2d (MaxPooling2D  (None, 63, 63, 32)       0         \n",
            " )                                                               \n",
            "                                                                 \n",
            " flatten (Flatten)           (None, 127008)            0         \n",
            "                                                                 \n",
            " dense (Dense)               (None, 40)                5080360   \n",
            "                                                                 \n",
            " dense_1 (Dense)             (None, 20)                820       \n",
            "                                                                 \n",
            " dense_2 (Dense)             (None, 6)                 126       \n",
            "                                                                 \n",
            "=================================================================\n",
            "Total params: 5,082,202\n",
            "Trainable params: 5,082,202\n",
            "Non-trainable params: 0\n",
            "_________________________________________________________________\n"
          ]
        }
      ]
    },
    {
      "cell_type": "code",
      "source": [
        "model.fit(x_train,epochs=10,steps_per_epoch=89,validation_data = x_test, validation_steps = 27)\n",
        "\n",
        "\n",
        "model.save(\"fruit.h5\")"
      ],
      "metadata": {
        "colab": {
          "base_uri": "https://localhost:8080/"
        },
        "id": "-1AuGDUe3V6b",
        "outputId": "13f0847e-875d-4cbf-9964-a66cd328d47e"
      },
      "execution_count": 16,
      "outputs": [
        {
          "output_type": "stream",
          "name": "stdout",
          "text": [
            "Epoch 1/10\n",
            "89/89 [==============================] - 945s 11s/step - loss: 1.1761 - accuracy: 0.6246 - val_loss: 66.9958 - val_accuracy: 0.7940\n",
            "Epoch 2/10\n",
            "89/89 [==============================] - 477s 5s/step - loss: 0.5927 - accuracy: 0.8090 - val_loss: 129.4430 - val_accuracy: 0.6516\n",
            "Epoch 3/10\n",
            "89/89 [==============================] - 234s 3s/step - loss: 0.4787 - accuracy: 0.8441 - val_loss: 227.8628 - val_accuracy: 0.5243\n",
            "Epoch 4/10\n",
            "89/89 [==============================] - 122s 1s/step - loss: 0.3456 - accuracy: 0.8835 - val_loss: 233.2232 - val_accuracy: 0.5359\n",
            "Epoch 5/10\n",
            "89/89 [==============================] - 85s 959ms/step - loss: 0.2847 - accuracy: 0.9040 - val_loss: 633.7368 - val_accuracy: 0.3704\n",
            "Epoch 6/10\n",
            "89/89 [==============================] - 68s 767ms/step - loss: 0.2261 - accuracy: 0.9235 - val_loss: 681.6103 - val_accuracy: 0.3993\n",
            "Epoch 7/10\n",
            "89/89 [==============================] - 59s 663ms/step - loss: 0.2459 - accuracy: 0.9125 - val_loss: 233.5868 - val_accuracy: 0.6343\n",
            "Epoch 8/10\n",
            "89/89 [==============================] - 52s 587ms/step - loss: 0.2116 - accuracy: 0.9245 - val_loss: 600.8589 - val_accuracy: 0.4167\n",
            "Epoch 9/10\n",
            "89/89 [==============================] - 51s 572ms/step - loss: 0.1742 - accuracy: 0.9431 - val_loss: 729.3225 - val_accuracy: 0.4167\n",
            "Epoch 10/10\n",
            "89/89 [==============================] - 52s 587ms/step - loss: 0.1638 - accuracy: 0.9437 - val_loss: 778.6277 - val_accuracy: 0.3681\n"
          ]
        }
      ]
    }
  ]
}