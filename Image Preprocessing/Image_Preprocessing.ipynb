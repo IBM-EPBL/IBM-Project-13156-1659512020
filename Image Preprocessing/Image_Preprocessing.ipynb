{
  "nbformat": 4,
  "nbformat_minor": 0,
  "metadata": {
    "colab": {
      "provenance": []
    },
    "kernelspec": {
      "name": "python3",
      "display_name": "Python 3"
    },
    "language_info": {
      "name": "python"
    }
  },
  "cells": [
    {
      "cell_type": "markdown",
      "source": [
        "#Image Preprocessing "
      ],
      "metadata": {
        "id": "QTBIWl_3IQ9S"
      }
    },
    {
      "cell_type": "code",
      "execution_count": 3,
      "metadata": {
        "id": "lNm8NCSWLvlq"
      },
      "outputs": [],
      "source": [
        "from keras.preprocessing.image import ImageDataGenerator"
      ]
    },
    {
      "cell_type": "code",
      "source": [
        "train_datagen = ImageDataGenerator(rescale = 1./255, shear_range = 0.2,zoom_range = 0.2,horizontal_flip = True)\n"
      ],
      "metadata": {
        "id": "YY7Pygz6V3px"
      },
      "execution_count": 4,
      "outputs": []
    },
    {
      "cell_type": "code",
      "source": [
        "test_datagen = ImageDataGenerator(rescale = 1)"
      ],
      "metadata": {
        "id": "UElSZOToV5r-"
      },
      "execution_count": 5,
      "outputs": []
    },
    {
      "cell_type": "markdown",
      "source": [
        "# FRUIT"
      ],
      "metadata": {
        "id": "Jr06mQ_NI1ym"
      }
    },
    {
      "cell_type": "code",
      "source": [
        "x_train= train_datagen.flow_from_directory('/content/drive/MyDrive/fruit-dataset/fruit-dataset/train',batch_size=32,target_size=(128,128),\n",
        "                                         color_mode='rgb',class_mode='categorical')\n",
        "x_test = test_datagen.flow_from_directory('/content/drive/MyDrive/fruit-dataset/fruit-dataset/test',batch_size=32,target_size=(128,128),\n",
        "                                         color_mode='rgb',class_mode='categorical')"
      ],
      "metadata": {
        "colab": {
          "base_uri": "https://localhost:8080/"
        },
        "id": "VNSIMhI9bvIb",
        "outputId": "c9b56bbc-fb86-491d-cfe3-71c214e824f1"
      },
      "execution_count": 16,
      "outputs": [
        {
          "output_type": "stream",
          "name": "stdout",
          "text": [
            "Found 5384 images belonging to 6 classes.\n",
            "Found 1686 images belonging to 6 classes.\n"
          ]
        }
      ]
    },
    {
      "cell_type": "markdown",
      "source": [
        "# VEGETABLE"
      ],
      "metadata": {
        "id": "o7522Q29I7jw"
      }
    },
    {
      "cell_type": "code",
      "source": [
        "x_train= train_datagen.flow_from_directory('/content/drive/MyDrive/Veg-dataset/Veg-dataset/train_set',batch_size=32,target_size=(128,128),\n",
        "                                         color_mode='rgb',class_mode='categorical')\n",
        "x_test = test_datagen.flow_from_directory('/content/drive/MyDrive/Veg-dataset/Veg-dataset/test_set',batch_size=32,target_size=(128,128),\n",
        "                                         color_mode='rgb',class_mode='categorical')"
      ],
      "metadata": {
        "colab": {
          "base_uri": "https://localhost:8080/"
        },
        "id": "EhYLrxI8JEC8",
        "outputId": "1a5a9fdf-98cb-458b-e5f9-4bae5727275a"
      },
      "execution_count": 17,
      "outputs": [
        {
          "output_type": "stream",
          "name": "stdout",
          "text": [
            "Found 11430 images belonging to 9 classes.\n",
            "Found 3416 images belonging to 9 classes.\n"
          ]
        }
      ]
    }
  ]
}